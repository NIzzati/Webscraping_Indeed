{
 "cells": [
  {
   "cell_type": "code",
   "execution_count": 4,
   "metadata": {},
   "outputs": [],
   "source": [
    "#Web scraping for Indeed\n",
    "import requests\n",
    "from bs4 import BeautifulSoup\n",
    "from datetime import datetime, timedelta\n",
    "import pandas as pd\n",
    "\n",
    "#Generating a url for job location and position\n",
    "def get_url(position,location):\n",
    "    position=position.replace(' ','-')\n",
    "    location=location.replace(' ','-')\n",
    "    template='https://malaysia.indeed.com/jobs?q={}&l={}'\n",
    "    url=template.format(position,location)\n",
    "    return url\n",
    "\n",
    "#Fetching job\n",
    "def get_jobs(card):\n",
    "    job_name=card.find('h2','jobTitle').text\n",
    "    jobURL= 'https://malaysia.indeed.com/' + card.get('href')\n",
    "    job_url=jobURL.replace('/rc/clk?','viewjob?')\n",
    "    company_name=card.find('span','companyName').text.strip()\n",
    "    job_location=card.find('div','companyLocation').text.strip()\n",
    "    try:\n",
    "        summary = ''\n",
    "        tag_str = ''\n",
    "    \n",
    "        job_summary=card.find('div','job-snippet')\n",
    "        if job_summary.text == '':\n",
    "            summary = 'Summary Not Available'\n",
    "        else:\n",
    "            for tag in job_summary('li'):\n",
    "                tag_str = tag.text\n",
    "                summary = summary + tag_str\n",
    "\n",
    "    except AttributeError:\n",
    "        summary = 'Summary not available'\n",
    "    job_salary=card.find_all('div','heading6 tapItem-gutter metadataContainer')\n",
    "    try:\n",
    "        job_salary =card.find('span','salary-snippet')\n",
    "        salary = job_salary.text.strip()\n",
    "    except AttributeError:\n",
    "        salary= 'N/A'\n",
    "    postDATE=card.find('span','date').text.strip()\n",
    "    N=int(''.join(filter(str.isdigit, postDATE)))\n",
    "    post_date = datetime.now().date() - timedelta(days=N)\n",
    "    today=datetime.today().strftime('%Y-%m-%d')\n",
    "    \n",
    "    job_info =(job_name, job_url, company_name, job_location, summary, salary, post_date, today)\n",
    "    return job_info\n",
    "\n",
    "def main(position,location):\n",
    "    records=[]\n",
    "    \n",
    "    url=get_url(position,location)\n",
    "    \n",
    "    response=requests.get(url)\n",
    "\n",
    "#Creating BeautifulSoup object\n",
    "    soup = BeautifulSoup(response.text, 'html.parser')\n",
    "    cards=soup.find_all('a',class_='tapItem')\n",
    "    for everyCard in cards:\n",
    "        jobDetails=get_jobs(everyCard)\n",
    "        records.append(jobDetails)\n",
    "        \n",
    "#Using pandas dataframe on the job information in a CSV file\n",
    "    col=['Job_name','Job_url','Company_name','Job_location','Job_summary','Job_salary','Post_date','Today_date']\n",
    "    \n",
    "    indeed_data=pd.DataFrame(records,columns=col)    \n",
    "    indeed_data.to_csv('D:\\\\joblisting.csv')"
   ]
  },
  {
   "cell_type": "code",
   "execution_count": 5,
   "metadata": {},
   "outputs": [],
   "source": [
    "main('web developer','kuala lumpur')"
   ]
  },
  {
   "cell_type": "code",
   "execution_count": null,
   "metadata": {},
   "outputs": [],
   "source": []
  }
 ],
 "metadata": {
  "kernelspec": {
   "display_name": "Python 3",
   "language": "python",
   "name": "python3"
  },
  "language_info": {
   "codemirror_mode": {
    "name": "ipython",
    "version": 3
   },
   "file_extension": ".py",
   "mimetype": "text/x-python",
   "name": "python",
   "nbconvert_exporter": "python",
   "pygments_lexer": "ipython3",
   "version": "3.7.6"
  }
 },
 "nbformat": 4,
 "nbformat_minor": 4
}
